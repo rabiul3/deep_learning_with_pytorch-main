{
  "cells": [
    {
      "cell_type": "markdown",
      "source": [
        "# Classifying the Iris Data Set with PyTorch."
      ],
      "metadata": {
        "id": "4c1uKQ-bA_W9"
      },
      "id": "4c1uKQ-bA_W9"
    },
    {
      "cell_type": "markdown",
      "source": [
        "Import libraries"
      ],
      "metadata": {
        "id": "2yH-AMZDBxdM"
      },
      "id": "2yH-AMZDBxdM"
    },
    {
      "cell_type": "code",
      "execution_count": null,
      "id": "sunset-exclusive",
      "metadata": {
        "id": "sunset-exclusive"
      },
      "outputs": [],
      "source": [
        "import torch\n",
        "import torch.nn as nn\n",
        "from sklearn.model_selection import train_test_split\n",
        "from sklearn.metrics import accuracy_score, f1_score\n",
        "\n",
        "from sklearn.metrics import classification_report\n",
        "from sklearn.metrics import confusion_matrix\n",
        "\n",
        "import seaborn as sn\n",
        "\n",
        "import numpy as np\n",
        "import pandas as pd\n",
        "import matplotlib.pyplot as plt\n",
        "\n",
        "%matplotlib notebook"
      ]
    },
    {
      "cell_type": "markdown",
      "id": "introductory-monkey",
      "metadata": {
        "id": "introductory-monkey"
      },
      "source": [
        "# Load iris dataset"
      ]
    },
    {
      "cell_type": "code",
      "execution_count": null,
      "id": "small-zambia",
      "metadata": {
        "colab": {
          "base_uri": "https://localhost:8080/",
          "height": 69
        },
        "id": "small-zambia",
        "outputId": "26d7dc98-efd9-4907-dd22-43312bb82d19"
      },
      "outputs": [
        {
          "output_type": "display_data",
          "data": {
            "text/plain": [
              "<IPython.core.display.HTML object>"
            ],
            "text/html": [
              "\n",
              "     <input type=\"file\" id=\"files-42bdcb47-940e-4eec-bb52-7c4226b562a9\" name=\"files[]\" multiple disabled\n",
              "        style=\"border:none\" />\n",
              "     <output id=\"result-42bdcb47-940e-4eec-bb52-7c4226b562a9\">\n",
              "      Upload widget is only available when the cell has been executed in the\n",
              "      current browser session. Please rerun this cell to enable.\n",
              "      </output>\n",
              "      <script>// Copyright 2017 Google LLC\n",
              "//\n",
              "// Licensed under the Apache License, Version 2.0 (the \"License\");\n",
              "// you may not use this file except in compliance with the License.\n",
              "// You may obtain a copy of the License at\n",
              "//\n",
              "//      http://www.apache.org/licenses/LICENSE-2.0\n",
              "//\n",
              "// Unless required by applicable law or agreed to in writing, software\n",
              "// distributed under the License is distributed on an \"AS IS\" BASIS,\n",
              "// WITHOUT WARRANTIES OR CONDITIONS OF ANY KIND, either express or implied.\n",
              "// See the License for the specific language governing permissions and\n",
              "// limitations under the License.\n",
              "\n",
              "/**\n",
              " * @fileoverview Helpers for google.colab Python module.\n",
              " */\n",
              "(function(scope) {\n",
              "function span(text, styleAttributes = {}) {\n",
              "  const element = document.createElement('span');\n",
              "  element.textContent = text;\n",
              "  for (const key of Object.keys(styleAttributes)) {\n",
              "    element.style[key] = styleAttributes[key];\n",
              "  }\n",
              "  return element;\n",
              "}\n",
              "\n",
              "// Max number of bytes which will be uploaded at a time.\n",
              "const MAX_PAYLOAD_SIZE = 100 * 1024;\n",
              "\n",
              "function _uploadFiles(inputId, outputId) {\n",
              "  const steps = uploadFilesStep(inputId, outputId);\n",
              "  const outputElement = document.getElementById(outputId);\n",
              "  // Cache steps on the outputElement to make it available for the next call\n",
              "  // to uploadFilesContinue from Python.\n",
              "  outputElement.steps = steps;\n",
              "\n",
              "  return _uploadFilesContinue(outputId);\n",
              "}\n",
              "\n",
              "// This is roughly an async generator (not supported in the browser yet),\n",
              "// where there are multiple asynchronous steps and the Python side is going\n",
              "// to poll for completion of each step.\n",
              "// This uses a Promise to block the python side on completion of each step,\n",
              "// then passes the result of the previous step as the input to the next step.\n",
              "function _uploadFilesContinue(outputId) {\n",
              "  const outputElement = document.getElementById(outputId);\n",
              "  const steps = outputElement.steps;\n",
              "\n",
              "  const next = steps.next(outputElement.lastPromiseValue);\n",
              "  return Promise.resolve(next.value.promise).then((value) => {\n",
              "    // Cache the last promise value to make it available to the next\n",
              "    // step of the generator.\n",
              "    outputElement.lastPromiseValue = value;\n",
              "    return next.value.response;\n",
              "  });\n",
              "}\n",
              "\n",
              "/**\n",
              " * Generator function which is called between each async step of the upload\n",
              " * process.\n",
              " * @param {string} inputId Element ID of the input file picker element.\n",
              " * @param {string} outputId Element ID of the output display.\n",
              " * @return {!Iterable<!Object>} Iterable of next steps.\n",
              " */\n",
              "function* uploadFilesStep(inputId, outputId) {\n",
              "  const inputElement = document.getElementById(inputId);\n",
              "  inputElement.disabled = false;\n",
              "\n",
              "  const outputElement = document.getElementById(outputId);\n",
              "  outputElement.innerHTML = '';\n",
              "\n",
              "  const pickedPromise = new Promise((resolve) => {\n",
              "    inputElement.addEventListener('change', (e) => {\n",
              "      resolve(e.target.files);\n",
              "    });\n",
              "  });\n",
              "\n",
              "  const cancel = document.createElement('button');\n",
              "  inputElement.parentElement.appendChild(cancel);\n",
              "  cancel.textContent = 'Cancel upload';\n",
              "  const cancelPromise = new Promise((resolve) => {\n",
              "    cancel.onclick = () => {\n",
              "      resolve(null);\n",
              "    };\n",
              "  });\n",
              "\n",
              "  // Wait for the user to pick the files.\n",
              "  const files = yield {\n",
              "    promise: Promise.race([pickedPromise, cancelPromise]),\n",
              "    response: {\n",
              "      action: 'starting',\n",
              "    }\n",
              "  };\n",
              "\n",
              "  cancel.remove();\n",
              "\n",
              "  // Disable the input element since further picks are not allowed.\n",
              "  inputElement.disabled = true;\n",
              "\n",
              "  if (!files) {\n",
              "    return {\n",
              "      response: {\n",
              "        action: 'complete',\n",
              "      }\n",
              "    };\n",
              "  }\n",
              "\n",
              "  for (const file of files) {\n",
              "    const li = document.createElement('li');\n",
              "    li.append(span(file.name, {fontWeight: 'bold'}));\n",
              "    li.append(span(\n",
              "        `(${file.type || 'n/a'}) - ${file.size} bytes, ` +\n",
              "        `last modified: ${\n",
              "            file.lastModifiedDate ? file.lastModifiedDate.toLocaleDateString() :\n",
              "                                    'n/a'} - `));\n",
              "    const percent = span('0% done');\n",
              "    li.appendChild(percent);\n",
              "\n",
              "    outputElement.appendChild(li);\n",
              "\n",
              "    const fileDataPromise = new Promise((resolve) => {\n",
              "      const reader = new FileReader();\n",
              "      reader.onload = (e) => {\n",
              "        resolve(e.target.result);\n",
              "      };\n",
              "      reader.readAsArrayBuffer(file);\n",
              "    });\n",
              "    // Wait for the data to be ready.\n",
              "    let fileData = yield {\n",
              "      promise: fileDataPromise,\n",
              "      response: {\n",
              "        action: 'continue',\n",
              "      }\n",
              "    };\n",
              "\n",
              "    // Use a chunked sending to avoid message size limits. See b/62115660.\n",
              "    let position = 0;\n",
              "    do {\n",
              "      const length = Math.min(fileData.byteLength - position, MAX_PAYLOAD_SIZE);\n",
              "      const chunk = new Uint8Array(fileData, position, length);\n",
              "      position += length;\n",
              "\n",
              "      const base64 = btoa(String.fromCharCode.apply(null, chunk));\n",
              "      yield {\n",
              "        response: {\n",
              "          action: 'append',\n",
              "          file: file.name,\n",
              "          data: base64,\n",
              "        },\n",
              "      };\n",
              "\n",
              "      let percentDone = fileData.byteLength === 0 ?\n",
              "          100 :\n",
              "          Math.round((position / fileData.byteLength) * 100);\n",
              "      percent.textContent = `${percentDone}% done`;\n",
              "\n",
              "    } while (position < fileData.byteLength);\n",
              "  }\n",
              "\n",
              "  // All done.\n",
              "  yield {\n",
              "    response: {\n",
              "      action: 'complete',\n",
              "    }\n",
              "  };\n",
              "}\n",
              "\n",
              "scope.google = scope.google || {};\n",
              "scope.google.colab = scope.google.colab || {};\n",
              "scope.google.colab._files = {\n",
              "  _uploadFiles,\n",
              "  _uploadFilesContinue,\n",
              "};\n",
              "})(self);\n",
              "</script> "
            ]
          },
          "metadata": {}
        },
        {
          "output_type": "stream",
          "name": "stdout",
          "text": [
            "Saving iris.data to iris (6).data\n"
          ]
        }
      ],
      "source": [
        "# Load data from pc\n",
        "from google.colab import files\n",
        "uploaded = files.upload()\n",
        "\n",
        "# load dataset\n",
        "df = pd.read_csv(\"iris.data\", header = None)"
      ]
    },
    {
      "cell_type": "code",
      "execution_count": null,
      "id": "ahead-madison",
      "metadata": {
        "colab": {
          "base_uri": "https://localhost:8080/",
          "height": 204
        },
        "id": "ahead-madison",
        "outputId": "eb36b18a-f9a1-4e18-a738-2b051511f0d7"
      },
      "outputs": [
        {
          "output_type": "execute_result",
          "data": {
            "text/plain": [
              "     0    1    2    3            4\n",
              "0  5.1  3.5  1.4  0.2  Iris-setosa\n",
              "1  4.9  3.0  1.4  0.2  Iris-setosa\n",
              "2  4.7  3.2  1.3  0.2  Iris-setosa\n",
              "3  4.6  3.1  1.5  0.2  Iris-setosa\n",
              "4  5.0  3.6  1.4  0.2  Iris-setosa"
            ],
            "text/html": [
              "\n",
              "  <div id=\"df-b40dcecf-763f-4199-840f-184b42501e1a\">\n",
              "    <div class=\"colab-df-container\">\n",
              "      <div>\n",
              "<style scoped>\n",
              "    .dataframe tbody tr th:only-of-type {\n",
              "        vertical-align: middle;\n",
              "    }\n",
              "\n",
              "    .dataframe tbody tr th {\n",
              "        vertical-align: top;\n",
              "    }\n",
              "\n",
              "    .dataframe thead th {\n",
              "        text-align: right;\n",
              "    }\n",
              "</style>\n",
              "<table border=\"1\" class=\"dataframe\">\n",
              "  <thead>\n",
              "    <tr style=\"text-align: right;\">\n",
              "      <th></th>\n",
              "      <th>0</th>\n",
              "      <th>1</th>\n",
              "      <th>2</th>\n",
              "      <th>3</th>\n",
              "      <th>4</th>\n",
              "    </tr>\n",
              "  </thead>\n",
              "  <tbody>\n",
              "    <tr>\n",
              "      <th>0</th>\n",
              "      <td>5.1</td>\n",
              "      <td>3.5</td>\n",
              "      <td>1.4</td>\n",
              "      <td>0.2</td>\n",
              "      <td>Iris-setosa</td>\n",
              "    </tr>\n",
              "    <tr>\n",
              "      <th>1</th>\n",
              "      <td>4.9</td>\n",
              "      <td>3.0</td>\n",
              "      <td>1.4</td>\n",
              "      <td>0.2</td>\n",
              "      <td>Iris-setosa</td>\n",
              "    </tr>\n",
              "    <tr>\n",
              "      <th>2</th>\n",
              "      <td>4.7</td>\n",
              "      <td>3.2</td>\n",
              "      <td>1.3</td>\n",
              "      <td>0.2</td>\n",
              "      <td>Iris-setosa</td>\n",
              "    </tr>\n",
              "    <tr>\n",
              "      <th>3</th>\n",
              "      <td>4.6</td>\n",
              "      <td>3.1</td>\n",
              "      <td>1.5</td>\n",
              "      <td>0.2</td>\n",
              "      <td>Iris-setosa</td>\n",
              "    </tr>\n",
              "    <tr>\n",
              "      <th>4</th>\n",
              "      <td>5.0</td>\n",
              "      <td>3.6</td>\n",
              "      <td>1.4</td>\n",
              "      <td>0.2</td>\n",
              "      <td>Iris-setosa</td>\n",
              "    </tr>\n",
              "  </tbody>\n",
              "</table>\n",
              "</div>\n",
              "      <button class=\"colab-df-convert\" onclick=\"convertToInteractive('df-b40dcecf-763f-4199-840f-184b42501e1a')\"\n",
              "              title=\"Convert this dataframe to an interactive table.\"\n",
              "              style=\"display:none;\">\n",
              "        \n",
              "  <svg xmlns=\"http://www.w3.org/2000/svg\" height=\"24px\"viewBox=\"0 0 24 24\"\n",
              "       width=\"24px\">\n",
              "    <path d=\"M0 0h24v24H0V0z\" fill=\"none\"/>\n",
              "    <path d=\"M18.56 5.44l.94 2.06.94-2.06 2.06-.94-2.06-.94-.94-2.06-.94 2.06-2.06.94zm-11 1L8.5 8.5l.94-2.06 2.06-.94-2.06-.94L8.5 2.5l-.94 2.06-2.06.94zm10 10l.94 2.06.94-2.06 2.06-.94-2.06-.94-.94-2.06-.94 2.06-2.06.94z\"/><path d=\"M17.41 7.96l-1.37-1.37c-.4-.4-.92-.59-1.43-.59-.52 0-1.04.2-1.43.59L10.3 9.45l-7.72 7.72c-.78.78-.78 2.05 0 2.83L4 21.41c.39.39.9.59 1.41.59.51 0 1.02-.2 1.41-.59l7.78-7.78 2.81-2.81c.8-.78.8-2.07 0-2.86zM5.41 20L4 18.59l7.72-7.72 1.47 1.35L5.41 20z\"/>\n",
              "  </svg>\n",
              "      </button>\n",
              "      \n",
              "  <style>\n",
              "    .colab-df-container {\n",
              "      display:flex;\n",
              "      flex-wrap:wrap;\n",
              "      gap: 12px;\n",
              "    }\n",
              "\n",
              "    .colab-df-convert {\n",
              "      background-color: #E8F0FE;\n",
              "      border: none;\n",
              "      border-radius: 50%;\n",
              "      cursor: pointer;\n",
              "      display: none;\n",
              "      fill: #1967D2;\n",
              "      height: 32px;\n",
              "      padding: 0 0 0 0;\n",
              "      width: 32px;\n",
              "    }\n",
              "\n",
              "    .colab-df-convert:hover {\n",
              "      background-color: #E2EBFA;\n",
              "      box-shadow: 0px 1px 2px rgba(60, 64, 67, 0.3), 0px 1px 3px 1px rgba(60, 64, 67, 0.15);\n",
              "      fill: #174EA6;\n",
              "    }\n",
              "\n",
              "    [theme=dark] .colab-df-convert {\n",
              "      background-color: #3B4455;\n",
              "      fill: #D2E3FC;\n",
              "    }\n",
              "\n",
              "    [theme=dark] .colab-df-convert:hover {\n",
              "      background-color: #434B5C;\n",
              "      box-shadow: 0px 1px 3px 1px rgba(0, 0, 0, 0.15);\n",
              "      filter: drop-shadow(0px 1px 2px rgba(0, 0, 0, 0.3));\n",
              "      fill: #FFFFFF;\n",
              "    }\n",
              "  </style>\n",
              "\n",
              "      <script>\n",
              "        const buttonEl =\n",
              "          document.querySelector('#df-b40dcecf-763f-4199-840f-184b42501e1a button.colab-df-convert');\n",
              "        buttonEl.style.display =\n",
              "          google.colab.kernel.accessAllowed ? 'block' : 'none';\n",
              "\n",
              "        async function convertToInteractive(key) {\n",
              "          const element = document.querySelector('#df-b40dcecf-763f-4199-840f-184b42501e1a');\n",
              "          const dataTable =\n",
              "            await google.colab.kernel.invokeFunction('convertToInteractive',\n",
              "                                                     [key], {});\n",
              "          if (!dataTable) return;\n",
              "\n",
              "          const docLinkHtml = 'Like what you see? Visit the ' +\n",
              "            '<a target=\"_blank\" href=https://colab.research.google.com/notebooks/data_table.ipynb>data table notebook</a>'\n",
              "            + ' to learn more about interactive tables.';\n",
              "          element.innerHTML = '';\n",
              "          dataTable['output_type'] = 'display_data';\n",
              "          await google.colab.output.renderOutput(dataTable, element);\n",
              "          const docLink = document.createElement('div');\n",
              "          docLink.innerHTML = docLinkHtml;\n",
              "          element.appendChild(docLink);\n",
              "        }\n",
              "      </script>\n",
              "    </div>\n",
              "  </div>\n",
              "  "
            ]
          },
          "metadata": {},
          "execution_count": 114
        }
      ],
      "source": [
        "# first samples\n",
        "df.head()"
      ]
    },
    {
      "cell_type": "markdown",
      "source": [
        "# Data Preparation for applying deep neural network using pytorch"
      ],
      "metadata": {
        "id": "A9s-49QdCA-V"
      },
      "id": "A9s-49QdCA-V"
    },
    {
      "cell_type": "code",
      "execution_count": null,
      "id": "included-dryer",
      "metadata": {
        "colab": {
          "base_uri": "https://localhost:8080/",
          "height": 204
        },
        "id": "included-dryer",
        "outputId": "45e7f1ea-5715-4fc6-f332-df7670a193a9"
      },
      "outputs": [
        {
          "output_type": "execute_result",
          "data": {
            "text/plain": [
              "   sepal length [cm]  sepal width [cm]  petal length [cm]  petal width [cm]  \\\n",
              "0                5.1               3.5                1.4               0.2   \n",
              "1                4.9               3.0                1.4               0.2   \n",
              "2                4.7               3.2                1.3               0.2   \n",
              "3                4.6               3.1                1.5               0.2   \n",
              "4                5.0               3.6                1.4               0.2   \n",
              "\n",
              "       species  \n",
              "0  Iris-setosa  \n",
              "1  Iris-setosa  \n",
              "2  Iris-setosa  \n",
              "3  Iris-setosa  \n",
              "4  Iris-setosa  "
            ],
            "text/html": [
              "\n",
              "  <div id=\"df-86401af9-9577-4314-bb4a-680312346164\">\n",
              "    <div class=\"colab-df-container\">\n",
              "      <div>\n",
              "<style scoped>\n",
              "    .dataframe tbody tr th:only-of-type {\n",
              "        vertical-align: middle;\n",
              "    }\n",
              "\n",
              "    .dataframe tbody tr th {\n",
              "        vertical-align: top;\n",
              "    }\n",
              "\n",
              "    .dataframe thead th {\n",
              "        text-align: right;\n",
              "    }\n",
              "</style>\n",
              "<table border=\"1\" class=\"dataframe\">\n",
              "  <thead>\n",
              "    <tr style=\"text-align: right;\">\n",
              "      <th></th>\n",
              "      <th>sepal length [cm]</th>\n",
              "      <th>sepal width [cm]</th>\n",
              "      <th>petal length [cm]</th>\n",
              "      <th>petal width [cm]</th>\n",
              "      <th>species</th>\n",
              "    </tr>\n",
              "  </thead>\n",
              "  <tbody>\n",
              "    <tr>\n",
              "      <th>0</th>\n",
              "      <td>5.1</td>\n",
              "      <td>3.5</td>\n",
              "      <td>1.4</td>\n",
              "      <td>0.2</td>\n",
              "      <td>Iris-setosa</td>\n",
              "    </tr>\n",
              "    <tr>\n",
              "      <th>1</th>\n",
              "      <td>4.9</td>\n",
              "      <td>3.0</td>\n",
              "      <td>1.4</td>\n",
              "      <td>0.2</td>\n",
              "      <td>Iris-setosa</td>\n",
              "    </tr>\n",
              "    <tr>\n",
              "      <th>2</th>\n",
              "      <td>4.7</td>\n",
              "      <td>3.2</td>\n",
              "      <td>1.3</td>\n",
              "      <td>0.2</td>\n",
              "      <td>Iris-setosa</td>\n",
              "    </tr>\n",
              "    <tr>\n",
              "      <th>3</th>\n",
              "      <td>4.6</td>\n",
              "      <td>3.1</td>\n",
              "      <td>1.5</td>\n",
              "      <td>0.2</td>\n",
              "      <td>Iris-setosa</td>\n",
              "    </tr>\n",
              "    <tr>\n",
              "      <th>4</th>\n",
              "      <td>5.0</td>\n",
              "      <td>3.6</td>\n",
              "      <td>1.4</td>\n",
              "      <td>0.2</td>\n",
              "      <td>Iris-setosa</td>\n",
              "    </tr>\n",
              "  </tbody>\n",
              "</table>\n",
              "</div>\n",
              "      <button class=\"colab-df-convert\" onclick=\"convertToInteractive('df-86401af9-9577-4314-bb4a-680312346164')\"\n",
              "              title=\"Convert this dataframe to an interactive table.\"\n",
              "              style=\"display:none;\">\n",
              "        \n",
              "  <svg xmlns=\"http://www.w3.org/2000/svg\" height=\"24px\"viewBox=\"0 0 24 24\"\n",
              "       width=\"24px\">\n",
              "    <path d=\"M0 0h24v24H0V0z\" fill=\"none\"/>\n",
              "    <path d=\"M18.56 5.44l.94 2.06.94-2.06 2.06-.94-2.06-.94-.94-2.06-.94 2.06-2.06.94zm-11 1L8.5 8.5l.94-2.06 2.06-.94-2.06-.94L8.5 2.5l-.94 2.06-2.06.94zm10 10l.94 2.06.94-2.06 2.06-.94-2.06-.94-.94-2.06-.94 2.06-2.06.94z\"/><path d=\"M17.41 7.96l-1.37-1.37c-.4-.4-.92-.59-1.43-.59-.52 0-1.04.2-1.43.59L10.3 9.45l-7.72 7.72c-.78.78-.78 2.05 0 2.83L4 21.41c.39.39.9.59 1.41.59.51 0 1.02-.2 1.41-.59l7.78-7.78 2.81-2.81c.8-.78.8-2.07 0-2.86zM5.41 20L4 18.59l7.72-7.72 1.47 1.35L5.41 20z\"/>\n",
              "  </svg>\n",
              "      </button>\n",
              "      \n",
              "  <style>\n",
              "    .colab-df-container {\n",
              "      display:flex;\n",
              "      flex-wrap:wrap;\n",
              "      gap: 12px;\n",
              "    }\n",
              "\n",
              "    .colab-df-convert {\n",
              "      background-color: #E8F0FE;\n",
              "      border: none;\n",
              "      border-radius: 50%;\n",
              "      cursor: pointer;\n",
              "      display: none;\n",
              "      fill: #1967D2;\n",
              "      height: 32px;\n",
              "      padding: 0 0 0 0;\n",
              "      width: 32px;\n",
              "    }\n",
              "\n",
              "    .colab-df-convert:hover {\n",
              "      background-color: #E2EBFA;\n",
              "      box-shadow: 0px 1px 2px rgba(60, 64, 67, 0.3), 0px 1px 3px 1px rgba(60, 64, 67, 0.15);\n",
              "      fill: #174EA6;\n",
              "    }\n",
              "\n",
              "    [theme=dark] .colab-df-convert {\n",
              "      background-color: #3B4455;\n",
              "      fill: #D2E3FC;\n",
              "    }\n",
              "\n",
              "    [theme=dark] .colab-df-convert:hover {\n",
              "      background-color: #434B5C;\n",
              "      box-shadow: 0px 1px 3px 1px rgba(0, 0, 0, 0.15);\n",
              "      filter: drop-shadow(0px 1px 2px rgba(0, 0, 0, 0.3));\n",
              "      fill: #FFFFFF;\n",
              "    }\n",
              "  </style>\n",
              "\n",
              "      <script>\n",
              "        const buttonEl =\n",
              "          document.querySelector('#df-86401af9-9577-4314-bb4a-680312346164 button.colab-df-convert');\n",
              "        buttonEl.style.display =\n",
              "          google.colab.kernel.accessAllowed ? 'block' : 'none';\n",
              "\n",
              "        async function convertToInteractive(key) {\n",
              "          const element = document.querySelector('#df-86401af9-9577-4314-bb4a-680312346164');\n",
              "          const dataTable =\n",
              "            await google.colab.kernel.invokeFunction('convertToInteractive',\n",
              "                                                     [key], {});\n",
              "          if (!dataTable) return;\n",
              "\n",
              "          const docLinkHtml = 'Like what you see? Visit the ' +\n",
              "            '<a target=\"_blank\" href=https://colab.research.google.com/notebooks/data_table.ipynb>data table notebook</a>'\n",
              "            + ' to learn more about interactive tables.';\n",
              "          element.innerHTML = '';\n",
              "          dataTable['output_type'] = 'display_data';\n",
              "          await google.colab.output.renderOutput(dataTable, element);\n",
              "          const docLink = document.createElement('div');\n",
              "          docLink.innerHTML = docLinkHtml;\n",
              "          element.appendChild(docLink);\n",
              "        }\n",
              "      </script>\n",
              "    </div>\n",
              "  </div>\n",
              "  "
            ]
          },
          "metadata": {},
          "execution_count": 115
        }
      ],
      "source": [
        "# add column names into the dataframe df\n",
        "df.columns = [\n",
        "    \"sepal length [cm]\",\n",
        "    \"sepal width [cm]\",\n",
        "    \"petal length [cm]\",\n",
        "    \"petal width [cm]\",\n",
        "    \"species\",\n",
        "]\n",
        "\n",
        "# display df with names\n",
        "df.head()"
      ]
    },
    {
      "cell_type": "code",
      "execution_count": null,
      "id": "renewable-spread",
      "metadata": {
        "colab": {
          "base_uri": "https://localhost:8080/"
        },
        "id": "renewable-spread",
        "outputId": "f5714dcf-e0b2-42f5-d80c-49594a986436"
      },
      "outputs": [
        {
          "output_type": "stream",
          "name": "stdout",
          "text": [
            "['Iris-setosa' 'Iris-versicolor' 'Iris-virginica']\n"
          ]
        }
      ],
      "source": [
        "# check unique values of species (class label)\n",
        "print(df[\"species\"].unique())"
      ]
    },
    {
      "cell_type": "code",
      "execution_count": null,
      "id": "present-nickel",
      "metadata": {
        "id": "present-nickel"
      },
      "outputs": [],
      "source": [
        "# transform class label into numerical values (Iris-setosa: 0, Iris-versicolar: 1, and Iris-virginica: 2)\n",
        "# create mapping\n",
        "mappings = {\n",
        "    \"Iris-setosa\": 0,\n",
        "    \"Iris-versicolor\": 1,\n",
        "    \"Iris-virginica\": 2,\n",
        "}\n",
        "\n",
        "# transform\n",
        "# apply mapping[x] to each element of species column\n",
        "df[\"species\"] = df[\"species\"].apply(lambda x: mappings[x])"
      ]
    },
    {
      "cell_type": "code",
      "execution_count": null,
      "id": "sustained-bryan",
      "metadata": {
        "colab": {
          "base_uri": "https://localhost:8080/",
          "height": 204
        },
        "id": "sustained-bryan",
        "outputId": "87710f50-430f-497f-b362-261befb324dc"
      },
      "outputs": [
        {
          "output_type": "execute_result",
          "data": {
            "text/plain": [
              "   sepal length [cm]  sepal width [cm]  petal length [cm]  petal width [cm]  \\\n",
              "0                5.1               3.5                1.4               0.2   \n",
              "1                4.9               3.0                1.4               0.2   \n",
              "2                4.7               3.2                1.3               0.2   \n",
              "3                4.6               3.1                1.5               0.2   \n",
              "4                5.0               3.6                1.4               0.2   \n",
              "\n",
              "   species  \n",
              "0        0  \n",
              "1        0  \n",
              "2        0  \n",
              "3        0  \n",
              "4        0  "
            ],
            "text/html": [
              "\n",
              "  <div id=\"df-b1af55d8-5ba1-4e75-bfd9-025e718c4488\">\n",
              "    <div class=\"colab-df-container\">\n",
              "      <div>\n",
              "<style scoped>\n",
              "    .dataframe tbody tr th:only-of-type {\n",
              "        vertical-align: middle;\n",
              "    }\n",
              "\n",
              "    .dataframe tbody tr th {\n",
              "        vertical-align: top;\n",
              "    }\n",
              "\n",
              "    .dataframe thead th {\n",
              "        text-align: right;\n",
              "    }\n",
              "</style>\n",
              "<table border=\"1\" class=\"dataframe\">\n",
              "  <thead>\n",
              "    <tr style=\"text-align: right;\">\n",
              "      <th></th>\n",
              "      <th>sepal length [cm]</th>\n",
              "      <th>sepal width [cm]</th>\n",
              "      <th>petal length [cm]</th>\n",
              "      <th>petal width [cm]</th>\n",
              "      <th>species</th>\n",
              "    </tr>\n",
              "  </thead>\n",
              "  <tbody>\n",
              "    <tr>\n",
              "      <th>0</th>\n",
              "      <td>5.1</td>\n",
              "      <td>3.5</td>\n",
              "      <td>1.4</td>\n",
              "      <td>0.2</td>\n",
              "      <td>0</td>\n",
              "    </tr>\n",
              "    <tr>\n",
              "      <th>1</th>\n",
              "      <td>4.9</td>\n",
              "      <td>3.0</td>\n",
              "      <td>1.4</td>\n",
              "      <td>0.2</td>\n",
              "      <td>0</td>\n",
              "    </tr>\n",
              "    <tr>\n",
              "      <th>2</th>\n",
              "      <td>4.7</td>\n",
              "      <td>3.2</td>\n",
              "      <td>1.3</td>\n",
              "      <td>0.2</td>\n",
              "      <td>0</td>\n",
              "    </tr>\n",
              "    <tr>\n",
              "      <th>3</th>\n",
              "      <td>4.6</td>\n",
              "      <td>3.1</td>\n",
              "      <td>1.5</td>\n",
              "      <td>0.2</td>\n",
              "      <td>0</td>\n",
              "    </tr>\n",
              "    <tr>\n",
              "      <th>4</th>\n",
              "      <td>5.0</td>\n",
              "      <td>3.6</td>\n",
              "      <td>1.4</td>\n",
              "      <td>0.2</td>\n",
              "      <td>0</td>\n",
              "    </tr>\n",
              "  </tbody>\n",
              "</table>\n",
              "</div>\n",
              "      <button class=\"colab-df-convert\" onclick=\"convertToInteractive('df-b1af55d8-5ba1-4e75-bfd9-025e718c4488')\"\n",
              "              title=\"Convert this dataframe to an interactive table.\"\n",
              "              style=\"display:none;\">\n",
              "        \n",
              "  <svg xmlns=\"http://www.w3.org/2000/svg\" height=\"24px\"viewBox=\"0 0 24 24\"\n",
              "       width=\"24px\">\n",
              "    <path d=\"M0 0h24v24H0V0z\" fill=\"none\"/>\n",
              "    <path d=\"M18.56 5.44l.94 2.06.94-2.06 2.06-.94-2.06-.94-.94-2.06-.94 2.06-2.06.94zm-11 1L8.5 8.5l.94-2.06 2.06-.94-2.06-.94L8.5 2.5l-.94 2.06-2.06.94zm10 10l.94 2.06.94-2.06 2.06-.94-2.06-.94-.94-2.06-.94 2.06-2.06.94z\"/><path d=\"M17.41 7.96l-1.37-1.37c-.4-.4-.92-.59-1.43-.59-.52 0-1.04.2-1.43.59L10.3 9.45l-7.72 7.72c-.78.78-.78 2.05 0 2.83L4 21.41c.39.39.9.59 1.41.59.51 0 1.02-.2 1.41-.59l7.78-7.78 2.81-2.81c.8-.78.8-2.07 0-2.86zM5.41 20L4 18.59l7.72-7.72 1.47 1.35L5.41 20z\"/>\n",
              "  </svg>\n",
              "      </button>\n",
              "      \n",
              "  <style>\n",
              "    .colab-df-container {\n",
              "      display:flex;\n",
              "      flex-wrap:wrap;\n",
              "      gap: 12px;\n",
              "    }\n",
              "\n",
              "    .colab-df-convert {\n",
              "      background-color: #E8F0FE;\n",
              "      border: none;\n",
              "      border-radius: 50%;\n",
              "      cursor: pointer;\n",
              "      display: none;\n",
              "      fill: #1967D2;\n",
              "      height: 32px;\n",
              "      padding: 0 0 0 0;\n",
              "      width: 32px;\n",
              "    }\n",
              "\n",
              "    .colab-df-convert:hover {\n",
              "      background-color: #E2EBFA;\n",
              "      box-shadow: 0px 1px 2px rgba(60, 64, 67, 0.3), 0px 1px 3px 1px rgba(60, 64, 67, 0.15);\n",
              "      fill: #174EA6;\n",
              "    }\n",
              "\n",
              "    [theme=dark] .colab-df-convert {\n",
              "      background-color: #3B4455;\n",
              "      fill: #D2E3FC;\n",
              "    }\n",
              "\n",
              "    [theme=dark] .colab-df-convert:hover {\n",
              "      background-color: #434B5C;\n",
              "      box-shadow: 0px 1px 3px 1px rgba(0, 0, 0, 0.15);\n",
              "      filter: drop-shadow(0px 1px 2px rgba(0, 0, 0, 0.3));\n",
              "      fill: #FFFFFF;\n",
              "    }\n",
              "  </style>\n",
              "\n",
              "      <script>\n",
              "        const buttonEl =\n",
              "          document.querySelector('#df-b1af55d8-5ba1-4e75-bfd9-025e718c4488 button.colab-df-convert');\n",
              "        buttonEl.style.display =\n",
              "          google.colab.kernel.accessAllowed ? 'block' : 'none';\n",
              "\n",
              "        async function convertToInteractive(key) {\n",
              "          const element = document.querySelector('#df-b1af55d8-5ba1-4e75-bfd9-025e718c4488');\n",
              "          const dataTable =\n",
              "            await google.colab.kernel.invokeFunction('convertToInteractive',\n",
              "                                                     [key], {});\n",
              "          if (!dataTable) return;\n",
              "\n",
              "          const docLinkHtml = 'Like what you see? Visit the ' +\n",
              "            '<a target=\"_blank\" href=https://colab.research.google.com/notebooks/data_table.ipynb>data table notebook</a>'\n",
              "            + ' to learn more about interactive tables.';\n",
              "          element.innerHTML = '';\n",
              "          dataTable['output_type'] = 'display_data';\n",
              "          await google.colab.output.renderOutput(dataTable, element);\n",
              "          const docLink = document.createElement('div');\n",
              "          docLink.innerHTML = docLinkHtml;\n",
              "          element.appendChild(docLink);\n",
              "        }\n",
              "      </script>\n",
              "    </div>\n",
              "  </div>\n",
              "  "
            ]
          },
          "metadata": {},
          "execution_count": 118
        }
      ],
      "source": [
        "# check new species values\n",
        "df.head()"
      ]
    },
    {
      "cell_type": "markdown",
      "id": "assured-continuity",
      "metadata": {
        "id": "assured-continuity"
      },
      "source": [
        "# Display and analyze data using Matplotlib and seaborn"
      ]
    },
    {
      "cell_type": "code",
      "execution_count": null,
      "id": "creative-inquiry",
      "metadata": {
        "id": "creative-inquiry"
      },
      "outputs": [],
      "source": [
        "# get colors by classes to color in the next plto\n",
        "\n",
        "# create dict to colors\n",
        "colorMap = {\n",
        "    0: \"r\",\n",
        "    1: \"g\",\n",
        "    2: \"b\",\n",
        "}\n",
        "\n",
        "# get colors for each element in species column\n",
        "colors = df[\"species\"].apply(lambda x: colorMap[x])"
      ]
    },
    {
      "cell_type": "code",
      "execution_count": null,
      "id": "conventional-rebel",
      "metadata": {
        "id": "conventional-rebel",
        "colab": {
          "base_uri": "https://localhost:8080/",
          "height": 1000
        },
        "outputId": "6108ac2e-9741-4afc-f133-934d981e891a"
      },
      "outputs": [
        {
          "output_type": "execute_result",
          "data": {
            "text/plain": [
              "array([[<Axes: xlabel='sepal length [cm]', ylabel='sepal length [cm]'>,\n",
              "        <Axes: xlabel='sepal width [cm]', ylabel='sepal length [cm]'>,\n",
              "        <Axes: xlabel='petal length [cm]', ylabel='sepal length [cm]'>,\n",
              "        <Axes: xlabel='petal width [cm]', ylabel='sepal length [cm]'>,\n",
              "        <Axes: xlabel='species', ylabel='sepal length [cm]'>],\n",
              "       [<Axes: xlabel='sepal length [cm]', ylabel='sepal width [cm]'>,\n",
              "        <Axes: xlabel='sepal width [cm]', ylabel='sepal width [cm]'>,\n",
              "        <Axes: xlabel='petal length [cm]', ylabel='sepal width [cm]'>,\n",
              "        <Axes: xlabel='petal width [cm]', ylabel='sepal width [cm]'>,\n",
              "        <Axes: xlabel='species', ylabel='sepal width [cm]'>],\n",
              "       [<Axes: xlabel='sepal length [cm]', ylabel='petal length [cm]'>,\n",
              "        <Axes: xlabel='sepal width [cm]', ylabel='petal length [cm]'>,\n",
              "        <Axes: xlabel='petal length [cm]', ylabel='petal length [cm]'>,\n",
              "        <Axes: xlabel='petal width [cm]', ylabel='petal length [cm]'>,\n",
              "        <Axes: xlabel='species', ylabel='petal length [cm]'>],\n",
              "       [<Axes: xlabel='sepal length [cm]', ylabel='petal width [cm]'>,\n",
              "        <Axes: xlabel='sepal width [cm]', ylabel='petal width [cm]'>,\n",
              "        <Axes: xlabel='petal length [cm]', ylabel='petal width [cm]'>,\n",
              "        <Axes: xlabel='petal width [cm]', ylabel='petal width [cm]'>,\n",
              "        <Axes: xlabel='species', ylabel='petal width [cm]'>],\n",
              "       [<Axes: xlabel='sepal length [cm]', ylabel='species'>,\n",
              "        <Axes: xlabel='sepal width [cm]', ylabel='species'>,\n",
              "        <Axes: xlabel='petal length [cm]', ylabel='species'>,\n",
              "        <Axes: xlabel='petal width [cm]', ylabel='species'>,\n",
              "        <Axes: xlabel='species', ylabel='species'>]], dtype=object)"
            ]
          },
          "metadata": {},
          "execution_count": 120
        },
        {
          "output_type": "display_data",
          "data": {
            "text/plain": [
              "<Figure size 936x936 with 25 Axes>"
            ],
            "image/png": "[encoded data removed]"
          },
          "metadata": {
            "needs_background": "light"
          }
        }
      ],
      "source": [
        "import matplotlib.pyplot as plt\n",
        "%matplotlib inline\n",
        "# plot variable distributions and its relationships colored by classes\n",
        "pd.plotting.scatter_matrix(\n",
        "    df,\n",
        "    color=colors,\n",
        "    figsize = (13, 13)\n",
        ")"
      ]
    },
    {
      "cell_type": "code",
      "execution_count": null,
      "id": "focal-rebound",
      "metadata": {
        "id": "focal-rebound",
        "colab": {
          "base_uri": "https://localhost:8080/",
          "height": 316
        },
        "outputId": "22f584c5-3587-411e-d927-9968bab2887c"
      },
      "outputs": [
        {
          "output_type": "execute_result",
          "data": {
            "text/plain": [
              "(array([50.,  0.,  0.,  0.,  0., 50.,  0.,  0.,  0., 50.]),\n",
              " array([0. , 0.2, 0.4, 0.6, 0.8, 1. , 1.2, 1.4, 1.6, 1.8, 2. ]),\n",
              " <BarContainer object of 10 artists>)"
            ]
          },
          "metadata": {},
          "execution_count": 121
        },
        {
          "output_type": "display_data",
          "data": {
            "text/plain": [
              "<Figure size 432x288 with 1 Axes>"
            ],
            "image/png": "[encoded data removed]"
          },
          "metadata": {
            "needs_background": "light"
          }
        }
      ],
      "source": [
        "# class analysis to see prevalence rate\n",
        "fig, ax = plt.subplots()\n",
        "ax.hist(df[\"species\"])"
      ]
    },
    {
      "cell_type": "markdown",
      "id": "marked-cholesterol",
      "metadata": {
        "id": "marked-cholesterol"
      },
      "source": [
        "# Get data to train model"
      ]
    },
    {
      "cell_type": "code",
      "execution_count": null,
      "id": "lesser-passage",
      "metadata": {
        "id": "lesser-passage"
      },
      "outputs": [],
      "source": [
        "# get X from dataframe df\n",
        "X = df.drop(\"species\", axis = 1).values\n",
        "# get lables from dataframe df\n",
        "y = df[\"species\"].values"
      ]
    },
    {
      "cell_type": "code",
      "execution_count": null,
      "id": "auburn-destiny",
      "metadata": {
        "id": "auburn-destiny"
      },
      "outputs": [],
      "source": [
        "# split dataset into training and testing\n",
        "X_train, X_tmp, y_train, y_tmp = train_test_split(X, y, test_size = 0.50)"
      ]
    },
    {
      "cell_type": "code",
      "execution_count": null,
      "id": "monthly-edward",
      "metadata": {
        "id": "monthly-edward"
      },
      "outputs": [],
      "source": [
        "# split into validation and testing\n",
        "X_val, X_test, y_val, y_test = train_test_split(X_tmp, y_tmp, test_size = 0.50)"
      ]
    },
    {
      "cell_type": "code",
      "execution_count": null,
      "id": "tender-parcel",
      "metadata": {
        "colab": {
          "base_uri": "https://localhost:8080/"
        },
        "id": "tender-parcel",
        "outputId": "12c16dac-e443-4620-ff59-7b3d098585a3"
      },
      "outputs": [
        {
          "output_type": "stream",
          "name": "stdout",
          "text": [
            "(150, 4)\n",
            "(75, 4)\n",
            "(37, 4)\n",
            "(38, 4)\n"
          ]
        }
      ],
      "source": [
        "# check datsets shapes\n",
        "print(X.shape)\n",
        "print(X_train.shape)\n",
        "print(X_val.shape)\n",
        "print(X_test.shape)"
      ]
    },
    {
      "cell_type": "code",
      "execution_count": null,
      "id": "relative-white",
      "metadata": {
        "colab": {
          "base_uri": "https://localhost:8080/"
        },
        "id": "relative-white",
        "outputId": "bc42e32a-0374-4d38-a621-2be1066ec0a0"
      },
      "outputs": [
        {
          "output_type": "stream",
          "name": "stdout",
          "text": [
            "<class 'numpy.ndarray'>\n"
          ]
        }
      ],
      "source": [
        "# check data type of arrays\n",
        "print(type(X_train))"
      ]
    },
    {
      "cell_type": "code",
      "execution_count": null,
      "id": "agreed-gathering",
      "metadata": {
        "id": "agreed-gathering"
      },
      "outputs": [],
      "source": [
        "# transfor each numpy array into torch tensors \n",
        "X_train = torch.FloatTensor(X_train)\n",
        "X_val = torch.FloatTensor(X_val)\n",
        "X_test = torch.FloatTensor(X_test)\n",
        "y_train = torch.LongTensor(y_train)\n",
        "y_val = torch.LongTensor(y_val)\n",
        "y_test = torch.LongTensor(y_test)"
      ]
    },
    {
      "cell_type": "markdown",
      "id": "split-empire",
      "metadata": {
        "id": "split-empire"
      },
      "source": [
        "# Creating NN model"
      ]
    },
    {
      "cell_type": "code",
      "execution_count": null,
      "id": "raising-rebound",
      "metadata": {
        "id": "raising-rebound"
      },
      "outputs": [],
      "source": [
        "# define model\n",
        "# you need to define 1) init method and 2) forward method\n",
        "class my_neural_network(nn.Module):\n",
        "    \n",
        "    # init method\n",
        "    # here define the layers \n",
        "    def __init__(self, input_dim = 4, hidden_layer = 25, output_dim = 3):\n",
        "        \n",
        "        super().__init__()\n",
        "        \n",
        "        # first fully connected layer\n",
        "        # parameters: input dim and output dim\n",
        "        self.fc1 = nn.Linear(input_dim, hidden_layer)\n",
        "        \n",
        "        # second layer \n",
        "        self.fc2 = nn.Linear(hidden_layer, hidden_layer)\n",
        "        \n",
        "        # activation function\n",
        "        self.act = nn.ReLU()\n",
        "        \n",
        "        # output layer\n",
        "        self.output = nn.Linear(hidden_layer, output_dim)\n",
        "    \n",
        "    \n",
        "    # forward method\n",
        "    # here define how to informations is going to pass inside the model\n",
        "    def forward(self, x):\n",
        "        \n",
        "        # first layer\n",
        "        # output = activation ( layer 1 (x) )\n",
        "        x = self.act(self.fc1(x))\n",
        "        \n",
        "        # second layer\n",
        "        # output = activation ( layer 2 (x) )\n",
        "        x = self.act(self.fc2(x))\n",
        "        \n",
        "        # output layer\n",
        "        x = self.output(x)\n",
        "\n",
        "        \n",
        "        # return ouput\n",
        "        return x"
      ]
    },
    {
      "cell_type": "code",
      "execution_count": null,
      "id": "lightweight-burlington",
      "metadata": {
        "colab": {
          "base_uri": "https://localhost:8080/"
        },
        "id": "lightweight-burlington",
        "outputId": "a1a92a24-391f-4b5a-9db8-f4554e6ae07e"
      },
      "outputs": [
        {
          "output_type": "stream",
          "name": "stdout",
          "text": [
            "my_neural_network(\n",
            "  (fc1): Linear(in_features=4, out_features=25, bias=True)\n",
            "  (fc2): Linear(in_features=25, out_features=25, bias=True)\n",
            "  (act): ReLU()\n",
            "  (output): Linear(in_features=25, out_features=3, bias=True)\n",
            ")\n"
          ]
        }
      ],
      "source": [
        "# define model\n",
        "model = my_neural_network()\n",
        "\n",
        "#display model structure\n",
        "print(model)"
      ]
    },
    {
      "cell_type": "markdown",
      "id": "foreign-concrete",
      "metadata": {
        "id": "foreign-concrete"
      },
      "source": [
        "# Defining methods to train the NN"
      ]
    },
    {
      "cell_type": "code",
      "execution_count": null,
      "id": "valuable-scotland",
      "metadata": {
        "id": "valuable-scotland"
      },
      "outputs": [],
      "source": [
        "# cost function\n",
        "# to measure how good is our model!\n",
        "costFunction = nn.CrossEntropyLoss()\n",
        "\n",
        "# Optimizer algorithm\n",
        "# It's to to update the model parameters based on the idea of minimize the cost function\n",
        "optimizer = torch.optim.Adam(model.parameters(), lr=0.001)"
      ]
    },
    {
      "cell_type": "markdown",
      "id": "honey-notification",
      "metadata": {
        "id": "honey-notification"
      },
      "source": [
        "# Train model"
      ]
    },
    {
      "cell_type": "code",
      "execution_count": null,
      "id": "increased-sound",
      "metadata": {
        "colab": {
          "base_uri": "https://localhost:8080/",
          "height": 211
        },
        "id": "increased-sound",
        "outputId": "31f4563d-130a-49d2-a874-c31b8bb4af4c"
      },
      "outputs": [
        {
          "output_type": "display_data",
          "data": {
            "text/plain": [
              "<Figure size 720x216 with 2 Axes>"
            ],
            "image/png": "[encoded data removed]"
          },
          "metadata": {
            "needs_background": "light"
          }
        }
      ],
      "source": [
        "# define epochs\n",
        "# do these cases:\n",
        "# 1) 100 because it gets errors so I can show the usefull of confusion matrix and classification report\n",
        "# 2) 300 is better and still has some errors\n",
        "epochs = 100\n",
        "\n",
        "# cost values (losses)\n",
        "trainLoss = np.zeros(shape = (epochs))\n",
        "validLoss = np.zeros(shape = (epochs))\n",
        "\n",
        "# metric value\n",
        "# accuracy\n",
        "validAcc = np.zeros(shape = (epochs))\n",
        "\n",
        "# plot to display training online\n",
        "fig, ax = plt.subplots(1, 2, figsize = (10, 3))\n",
        "\n",
        "# train in each epoch\n",
        "for i in range(epochs):\n",
        "    \n",
        "#     print(f\"epoch {i}\")\n",
        "    \n",
        "    # Use train dataset\n",
        "    \n",
        "    \n",
        "    # 1\n",
        "    # get model predictions\n",
        "    predictions = model.forward(X_train)\n",
        "       \n",
        "    # 2\n",
        "    # get cost function value (loss)\n",
        "    loss = costFunction(predictions, y_train)\n",
        "    \n",
        "    # add loss value to array\n",
        "#     trainLoss.append(loss/120)\n",
        "    trainLoss[i] = loss\n",
        "    \n",
        "    # gradients to zero.\n",
        "    # this is because pytorch accumulates the gradientes in each call to backward() function (next function to use)\n",
        "    optimizer.zero_grad()\n",
        "    \n",
        "    # 3\n",
        "    # do backprogagation \n",
        "    # it is to get the gradient values of loss function wrt each model parameter\n",
        "    loss.backward()\n",
        "    \n",
        "    \n",
        "    # 4\n",
        "    # update parameters\n",
        "    # use the update formular or algorithm to update the models parameters using the gradient values obtained by backpropagation algorithm\n",
        "    optimizer.step()\n",
        "    \n",
        "    \n",
        "    \n",
        "    # validation dataset\n",
        "    # this is just to check the training, no to update parameters\n",
        "    predictionsVal = model.forward(X_val)\n",
        "    \n",
        "    # val loss\n",
        "    lossVal = costFunction(predictionsVal, y_val)\n",
        "    \n",
        "    # add loss value to array\n",
        "    validLoss[i] = lossVal\n",
        "    \n",
        "    # get accuracy value\n",
        "    validAcc[i] = accuracy_score(\n",
        "        \n",
        "        # true values\n",
        "        y_val.detach().numpy(),\n",
        "        \n",
        "        # predicted values\n",
        "        torch.argmax(predictionsVal, 1).detach().numpy(),\n",
        "        \n",
        "    )\n",
        "    \n",
        "    \n",
        "    \n",
        "    # plot loss values\n",
        "    \n",
        "    # add train\n",
        "    ax[0].plot(trainLoss[0: i], c = \"red\")\n",
        "    # add valid\n",
        "    ax[0].plot(validLoss[0: i], c = \"green\")\n",
        "    \n",
        "    \n",
        "    # plot metric values\n",
        "    ax[1].plot(validAcc[0: i], c = \"red\")\n",
        "    \n",
        "    # plot\n",
        "    fig.canvas.draw()"
      ]
    },
    {
      "cell_type": "markdown",
      "id": "reserved-breathing",
      "metadata": {
        "id": "reserved-breathing"
      },
      "source": [
        "# Analize on test dataset (unseen data)"
      ]
    },
    {
      "cell_type": "code",
      "execution_count": null,
      "id": "cordless-function",
      "metadata": {
        "id": "cordless-function"
      },
      "outputs": [],
      "source": [
        "# get test model predictions\n",
        "predictionsTest = model.forward(X_test)\n",
        "\n",
        "# get prediction\n",
        "predictionsTest = torch.argmax(predictionsTest, 1).detach().numpy()"
      ]
    },
    {
      "cell_type": "code",
      "execution_count": null,
      "id": "sporting-postcard",
      "metadata": {
        "colab": {
          "base_uri": "https://localhost:8080/",
          "height": 341
        },
        "id": "sporting-postcard",
        "outputId": "4c0014d9-4b6e-4376-d32d-387c595d4a06"
      },
      "outputs": [
        {
          "output_type": "execute_result",
          "data": {
            "text/plain": [
              "<Axes: >"
            ]
          },
          "metadata": {},
          "execution_count": 133
        },
        {
          "output_type": "display_data",
          "data": {
            "text/plain": [
              "<Figure size 504x360 with 2 Axes>"
            ],
            "image/png": "[encoded data removed]"
          },
          "metadata": {
            "needs_background": "light"
          }
        }
      ],
      "source": [
        "# get confussion matrix\n",
        "cm = confusion_matrix(\n",
        "    \n",
        "    # labels\n",
        "    y_test, \n",
        "    \n",
        "    # predictions\n",
        "    predictionsTest, \n",
        "    \n",
        "    normalize = None,\n",
        "#     normalize = \"true\"\n",
        "    \n",
        ")\n",
        "\n",
        "# print(f\"class 0: {rFResultsCM[0, :]}\")\n",
        "\n",
        "fig0, ax = plt.subplots(figsize = (7,5))\n",
        "\n",
        "# plot\n",
        "sn.heatmap(\n",
        "    \n",
        "    # confusion matrix  values\n",
        "    cm, \n",
        "    \n",
        "    # add values to each element in matrix\n",
        "    annot=True, \n",
        "    \n",
        "    # add labesl to axis\n",
        "    yticklabels = [x for x in mappings],\n",
        "    xticklabels = [x for x in mappings],\n",
        "    \n",
        "    # blue scale\n",
        "    cmap = plt.cm.Blues,\n",
        ")"
      ]
    },
    {
      "cell_type": "code",
      "execution_count": null,
      "id": "optimum-invite",
      "metadata": {
        "colab": {
          "base_uri": "https://localhost:8080/"
        },
        "id": "optimum-invite",
        "outputId": "aef3bd5f-d488-4448-cdd2-ed884c9947c6"
      },
      "outputs": [
        {
          "output_type": "stream",
          "name": "stdout",
          "text": [
            "              precision    recall  f1-score   support\n",
            "\n",
            "           0       1.00      1.00      1.00        14\n",
            "           1       1.00      0.43      0.60        14\n",
            "           2       0.56      1.00      0.71        10\n",
            "\n",
            "    accuracy                           0.79        38\n",
            "   macro avg       0.85      0.81      0.77        38\n",
            "weighted avg       0.88      0.79      0.78        38\n",
            "\n"
          ]
        }
      ],
      "source": [
        "# get classification report\n",
        "print(\n",
        "    classification_report(\n",
        "        y_test, \n",
        "        predictionsTest\n",
        "    )\n",
        ")"
      ]
    }
  ],
  "metadata": {
    "kernelspec": {
      "display_name": "Python 3",
      "language": "python",
      "name": "python3"
    },
    "language_info": {
      "codemirror_mode": {
        "name": "ipython",
        "version": 3
      },
      "file_extension": ".py",
      "mimetype": "text/x-python",
      "name": "python",
      "nbconvert_exporter": "python",
      "pygments_lexer": "ipython3",
      "version": "3.7.6"
    },
    "colab": {
      "provenance": []
    }
  },
  "nbformat": 4,
  "nbformat_minor": 5
}